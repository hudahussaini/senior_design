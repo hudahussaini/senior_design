{
 "cells": [
  {
   "cell_type": "code",
   "execution_count": 4,
   "metadata": {},
   "outputs": [
    {
     "ename": "ModuleNotFoundError",
     "evalue": "No module named 'expert_field_project'",
     "output_type": "error",
     "traceback": [
      "\u001b[0;31m---------------------------------------------------------------------------\u001b[0m",
      "\u001b[0;31mModuleNotFoundError\u001b[0m                       Traceback (most recent call last)",
      "Cell \u001b[0;32mIn[4], line 4\u001b[0m\n\u001b[1;32m      2\u001b[0m \u001b[38;5;28;01mimport\u001b[39;00m \u001b[38;5;21;01mpathlib\u001b[39;00m\n\u001b[1;32m      3\u001b[0m \u001b[38;5;28;01mfrom\u001b[39;00m \u001b[38;5;21;01mdata_processor\u001b[39;00m \u001b[38;5;28;01mimport\u001b[39;00m TopicModelDataPreprocessor\n\u001b[0;32m----> 4\u001b[0m \u001b[38;5;28;01mfrom\u001b[39;00m \u001b[38;5;21;01mexpert_field_project\u001b[39;00m\u001b[38;5;21;01m.\u001b[39;00m\u001b[38;5;21;01mutils\u001b[39;00m \u001b[38;5;28;01mimport\u001b[39;00m topic_model_config\n\u001b[1;32m      6\u001b[0m all_pdf_folder_path \u001b[38;5;241m=\u001b[39m topic_model_config\u001b[38;5;241m.\u001b[39mALL_PDF_FOLDER_PATH\n\u001b[1;32m      7\u001b[0m path_all_pdf_folder_path \u001b[38;5;241m=\u001b[39m pathlib\u001b[38;5;241m.\u001b[39mPath(all_pdf_folder_path)\n",
      "\u001b[0;31mModuleNotFoundError\u001b[0m: No module named 'expert_field_project'"
     ]
    }
   ],
   "source": [
    "import os\n",
    "import pathlib\n",
    "from data_processor import TopicModelDataPreprocessor\n",
    "from expert_field_project.utils import topic_model_config\n",
    "\n",
    "all_pdf_folder_path = topic_model_config.ALL_PDF_FOLDER_PATH\n",
    "path_all_pdf_folder_path = pathlib.Path(all_pdf_folder_path)\n",
    "\n",
    "for author_folder in path_all_pdf_folder_path.iterdir():\n",
    "    if author_folder.is_dir():\n",
    "        topic_model_processor = TopicModelDataPreprocessor(all_pdf_folder_path=path_all_pdf_folder_path)\n",
    "        docs = topic_model_processor.get_and_process_pdf_files(author_folder=author_folder)\n",
    "        "
   ]
  },
  {
   "cell_type": "code",
   "execution_count": 5,
   "metadata": {},
   "outputs": [],
   "source": [
    "import tomotopy as tp\n",
    "\n",
    "hdp = tp.HDPModel(tw=tp.TermWeight.IDF, min_cf=5, rm_top=7,\n",
    "                 gamma=1, alpha=0.1, initial_k=10, seed=99999)\n",
    "\n",
    "# Add docs to train\n",
    "for vec in docs:\n",
    "    hdp.add_doc(vec)\n",
    "\n",
    "# Initiate MCMC burn-in \n",
    "hdp.burn_in = 100\n",
    "hdp.train(0)\n",
    "print('Num docs:', len(hdp.docs), ', Vocab size:', hdp.num_vocabs, ', Num words:', hdp.num_words)\n",
    "print('Removed top words:', hdp.removed_top_words)"
   ]
  },
  {
   "cell_type": "code",
   "execution_count": 4,
   "metadata": {},
   "outputs": [
    {
     "name": "stderr",
     "output_type": "stream",
     "text": [
      "/tmp/ipykernel_2207735/2310979809.py:3: RuntimeWarning: The training result may differ even with fixed seed if `workers` != 1.\n",
      "  hdp.train(100, workers=3)\n"
     ]
    },
    {
     "name": "stdout",
     "output_type": "stream",
     "text": [
      "Iteration: 0\tLog-likelihood: -6.726657755728436\tNum. of topics: 33\n",
      "Iteration: 100\tLog-likelihood: -6.702145664466894\tNum. of topics: 36\n",
      "Iteration: 200\tLog-likelihood: -6.662633374210541\tNum. of topics: 40\n",
      "Iteration: 300\tLog-likelihood: -6.632178103411953\tNum. of topics: 42\n",
      "Iteration: 400\tLog-likelihood: -6.706047074875143\tNum. of topics: 42\n",
      "Iteration: 500\tLog-likelihood: -6.698826180078019\tNum. of topics: 45\n",
      "Iteration: 600\tLog-likelihood: -6.617993206529829\tNum. of topics: 47\n",
      "Iteration: 700\tLog-likelihood: -6.597068623761541\tNum. of topics: 44\n",
      "Iteration: 800\tLog-likelihood: -6.595335463967501\tNum. of topics: 44\n",
      "Iteration: 900\tLog-likelihood: -6.572204671079737\tNum. of topics: 43\n"
     ]
    }
   ],
   "source": [
    "mcmc_iter=1000\n",
    "for i in range(0, mcmc_iter, 100):\n",
    "    hdp.train(100, workers=3)\n",
    "    print('Iteration: {}\\tLog-likelihood: {}\\tNum. of topics: {}'.format(i, hdp.ll_per_word, hdp.live_k))"
   ]
  },
  {
   "cell_type": "code",
   "execution_count": 5,
   "metadata": {},
   "outputs": [],
   "source": [
    "def get_hdp_topics(hdp, top_n=10):\n",
    "    '''Wrapper function to extract topics from trained tomotopy HDP model \n",
    "    \n",
    "    ** Inputs **\n",
    "    hdp:obj -> HDPModel trained model\n",
    "    top_n: int -> top n words in topic based on frequencies\n",
    "    \n",
    "    ** Returns **\n",
    "    topics: dict -> per topic, an arrays with top words and associated frequencies \n",
    "    '''\n",
    "    \n",
    "    # Get most important topics by # of times they were assigned (i.e. counts)\n",
    "    sorted_topics = [k for k, v in sorted(enumerate(hdp.get_count_by_topics()), key=lambda x:x[1], reverse=True)]\n",
    "\n",
    "    topics=dict()\n",
    "    \n",
    "    # For topics found, extract only those that are still assigned\n",
    "    for k in sorted_topics:\n",
    "        if not hdp.is_live_topic(k): continue # remove un-assigned topics at the end (i.e. not alive)\n",
    "        topic_wp =[]\n",
    "        for word, prob in hdp.get_topic_words(k, top_n=top_n):\n",
    "            topic_wp.append((word, prob))\n",
    "\n",
    "        topics[k] = topic_wp # store topic word/frequency array\n",
    "        \n",
    "    return topics"
   ]
  },
  {
   "cell_type": "code",
   "execution_count": 6,
   "metadata": {},
   "outputs": [],
   "source": [
    "hdp_topics = get_hdp_topics(hdp)"
   ]
  },
  {
   "cell_type": "code",
   "execution_count": 9,
   "metadata": {},
   "outputs": [
    {
     "name": "stdout",
     "output_type": "stream",
     "text": [
      "[('section_waiver', 0.03754639998078346), ('congressional_district', 0.03337470442056656), ('vote', 0.02746480144560337), ('campaign_contribution', 0.02642187848687172), ('section_recipient', 0.025031305849552155), ('candidate', 0.0229750107973814), ('kolstad_page', 0.018546288833022118), ('payment', 0.01798292249441147), ('available_pmc', 0.016004910692572594), ('treated', 0.015934139490127563)]\n",
      "[('compliers', 0.06427974253892899), ('never_taker', 0.053927332162857056), ('oregon', 0.04942040145397186), ('always_taker', 0.037864748388528824), ('utilization', 0.03537672385573387), ('mte', 0.030407056212425232), ('unobserved_net', 0.0300722885876894), ('effect', 0.026873253285884857), ('visit', 0.026282748207449913), ('late', 0.022581961005926132)]\n",
      "[('eshi', 0.06380578875541687), ('hour', 0.02511393092572689), ('author_manuscript', 0.024928109720349312), ('per_week', 0.01680145226418972), ('job', 0.01598692312836647), ('deadweight_loss', 0.014211013913154602), ('wage', 0.013496541418135166), ('mandatebased', 0.012382063083350658), ('employer', 0.010548276826739311), ('sipp', 0.009222716093063354)]\n",
      "[('safety_net', 0.058929916471242905), ('longitudinal', 0.04097652807831764), ('risk_aversion', 0.03609715402126312), ('sparcs', 0.03227301314473152), ('persistent_diagnosis', 0.02946702018380165), ('crosssectional', 0.02835579216480255), ('private', 0.024422012269496918), ('prole', 0.023749548941850662), ('young_privately', 0.022452041506767273), ('visit', 0.020697247236967087)]\n",
      "[('breast_cancer', 0.05642588064074516), ('mammography', 0.037635769695043564), ('cancer', 0.036728501319885254), ('woman', 0.03081260435283184), ('screen', 0.029143445193767548), ('trial', 0.027100440114736557), ('breast', 0.021648425608873367), ('cnbss', 0.01723436452448368), ('preventive_service', 0.0166784580796957), ('mortality', 0.016101371496915817)]\n",
      "[('cqiv', 0.07191795110702515), ('quantile', 0.027683822438120842), ('default', 0.018734607845544815), ('censor', 0.015116145834326744), ('string', 0.012898851186037064), ('chernozhukov', 0.012361523695290089), ('alcohol_logexp', 0.011372562497854233), ('quantileuncensored_observation', 0.010879416018724442), ('uncensored', 0.010749542154371738), ('step', 0.010748193599283695)]\n",
      "[('deductible', 0.07498010993003845), ('tobit', 0.042341284453868866), ('quantiles', 0.033525753766298294), ('member', 0.029449567198753357), ('price', 0.02679053321480751), ('censor', 0.024405095726251602), ('forwardlooking', 0.023726072162389755), ('coinsurance_rate', 0.02190372534096241), ('identication_strategy', 0.020608995109796524), ('dependent', 0.015691284090280533)]\n",
      "[('vestate', 0.10165883600711823), ('dierences', 0.04431649297475815), ('mother_education', 0.04159571975469589), ('classications', 0.040478795766830444), ('certicate', 0.03235524520277977), ('classication', 0.02843528240919113), ('multistate', 0.02773500792682171), ('signicant', 0.027271587401628494), ('cutos', 0.025036515668034554), ('rst_stage', 0.024545786902308464)]\n",
      "[('kill', 0.03509056195616722), ('intervention', 0.03145090118050575), ('live_regardless', 0.02442380227148533), ('participant', 0.023486189544200897), ('intended_fraction', 0.01899673230946064), ('prowess_trial', 0.017639964818954468), ('die_regardless', 0.017639964818954468), ('observe_dead', 0.016283197328448296), ('save', 0.012390948832035065), ('randomization_error', 0.01221289299428463)]\n",
      "[('quantile', 0.029766902327537537), ('cqiv', 0.02159038744866848), ('uniformly', 0.014205709099769592), ('engel_curve', 0.01045723631978035), ('tobit', 0.010146500542759895), ('estimator', 0.010018951259553432), ('censor', 0.008524187840521336), ('dimr', 0.008486004546284676), ('step', 0.008187104016542435), ('class', 0.007544856518507004)]\n",
      "[('nystrm', 0.12016517668962479), ('tabr_kopparberg', 0.04674288630485535), ('tabr_stergtland', 0.04674288630485535), ('economic_perspective', 0.03869866207242012), ('duffy', 0.03339338302612305), ('benefit', 0.02855261228978634), ('lars', 0.022613409906625748), ('fit', 0.021117283031344414), ('wall_canadian', 0.018094651401042938), ('uspstf', 0.015963036566972733)]\n",
      "[('breast_cancer', 0.1732650250196457), ('woman', 0.09024295955896378), ('overdiagnosis', 0.06387201696634293), ('cancer', 0.04281185567378998), ('guideline', 0.03467217832803726), ('active_study', 0.03125803917646408), ('screen', 0.02707344852387905), ('treatment', 0.01726384460926056), ('incidence', 0.01604262739419937), ('uspstf_guideline', 0.015057597309350967)]\n",
      "[('xux', 0.075016088783741), ('consumption', 0.05680658295750618), ('cwp', 0.035859934985637665), ('min_max', 0.03557541221380234), ('consume', 0.03500636667013168), ('die_dokumente', 0.03049737587571144), ('homoskedastic', 0.03049737587571144), ('propensity', 0.023352274671196938), ('objective', 0.02127525582909584), ('ffentlich', 0.020346280187368393)]\n",
      "[('alkaline_basalt', 0.07476210594177246), ('volcano', 0.053410474210977554), ('fig', 0.037978146225214005), ('rica', 0.028941180557012558), ('branch', 0.02553180605173111), ('activity', 0.02532922849059105), ('measuring', 0.021713733673095703), ('san', 0.019004767760634422), ('xray', 0.019004767760634422), ('analyse', 0.016903532668948174)]\n",
      "[('untreated', 0.06325408816337585), ('treatment', 0.05542130768299103), ('eect', 0.04385031387209892), ('charge', 0.022998826578259468), ('ate', 0.02199106104671955), ('oregon', 0.021849989891052246), ('treat', 0.021551797166466713), ('subgroup', 0.021492602303624153), ('eects', 0.018546374514698982), ('dierenceindierence_test', 0.01757701113820076)]\n",
      "[('public_econ', 0.15242554247379303), ('watermarktext_watermarktext', 0.14918264746665955), ('kolstad_page', 0.11619992554187775), ('available_pmc', 0.10099852830171585), ('differenceindifferences', 0.024984121322631836), ('coefficient', 0.021157877519726753), ('statistically_significant', 0.020173318684101105), ('pubmed', 0.019768262282013893), ('different', 0.018864145502448082), ('cost', 0.012351864017546177)]\n",
      "[('placebo', 0.039108581840991974), ('ipost_ipre', 0.0350855253636837), ('synthetic', 0.030087653547525406), ('ima', 0.028069792315363884), ('ipre', 0.02607467956840992), ('post', 0.023021100088953972), ('acpost_acpre', 0.01871548779308796), ('mspe', 0.01871548779308796), ('acpre', 0.016764750704169273), ('tki', 0.016376910731196404)]\n",
      "[('premium', 0.06105464696884155), ('adverse_selection', 0.0319797545671463), ('insurer', 0.027778390794992447), ('coverage', 0.01976330578327179), ('market', 0.01454626303166151), ('impact', 0.011256675235927105), ('purchase', 0.011204204522073269), ('cost', 0.010282271541655064), ('prereform', 0.010157558135688305), ('optimal', 0.009243971668183804)]\n",
      "[('tho', 0.19748571515083313), ('rock', 0.05152078717947006), ('basaltic_rock', 0.04048139229416847), ('basalt', 0.036801595240831375), ('costa_rica', 0.029441995546221733), ('ree', 0.025762194767594337), ('tab', 0.02453559637069702), ('aro', 0.020855795592069626), ('gdr', 0.020855795592069626), ('andesite', 0.01962919533252716)]\n",
      "[('document', 0.08728107810020447), ('econstor', 0.06680366396903992), ('certain', 0.031949132680892944), ('der', 0.02608010731637478), ('internet', 0.02344103902578354), ('personal', 0.02120973914861679), ('usage', 0.017572013661265373), ('robin', 0.014667344279587269), ('might', 0.013340087607502937), ('save', 0.010177914053201675)]\n",
      "[('risk_protection', 0.06305508315563202), ('deductible', 0.060360830277204514), ('frac_frac', 0.03875570744276047), ('budget_set', 0.0315287709236145), ('nonlinear_budget', 0.028845680877566338), ('spending', 0.028587110340595245), ('moral_hazard', 0.025947481393814087), ('segment', 0.021463017910718918), ('tradeobetween_moral', 0.01685170643031597), ('welfare', 0.0158186387270689)]\n",
      "[('insured', 0.02004573494195938), ('county', 0.016524184495210648), ('cost', 0.016453981399536133), ('hospital', 0.010529661551117897), ('coverage', 0.010529658757150173), ('statistically_signicant', 0.009666931815445423), ('visit', 0.00901703629642725), ('coecient', 0.008822822012007236), ('dierenceindierences', 0.008660820312798023), ('signicant', 0.008625160902738571)]\n",
      "[('mtep', 0.037085551768541336), ('compliers', 0.03421837463974953), ('always_taker', 0.029557179659605026), ('never_taker', 0.02788420580327511), ('mtex', 0.024476101621985435), ('late', 0.0237794890999794), ('visit', 0.02068851701915264), ('risols', 0.019769424572587013), ('utilization', 0.019755486398935318), ('btto', 0.01882808841764927)]\n",
      "[('informational', 0.06286894530057907), ('mammog_raphy', 0.02674126625061035), ('hip', 0.02674126625061035), ('recommendation', 0.023664209991693497), ('experimental', 0.022969162091612816), ('inform', 0.02093484438955784), ('tool', 0.020286925137043), ('treatment', 0.019888872280716896), ('thai', 0.01605404168367386), ('policy', 0.015678418800234795)]\n",
      "[('injury', 0.10865440219640732), ('family_bear', 0.06409122049808502), ('family', 0.03973166272044182), ('employee', 0.03233679383993149), ('yearend_price', 0.0302994716912508), ('stoploss', 0.023197516798973083), ('cqiv', 0.023161577060818672), ('elasticity', 0.02298065274953842), ('spouse', 0.02071228437125683), ('quantile', 0.017877181991934776)]\n",
      "[('little_sensitivity', 0.07014143466949463), ('sion', 0.041277702897787094), ('relevance', 0.04096715897321701), ('dent', 0.03510875254869461), ('jun', 0.03510875254869461), ('closure', 0.030731815844774246), ('unspecied', 0.020676886662840843), ('sensitive', 0.01839391700923443), ('cutos', 0.01759241335093975), ('bar', 0.01759241335093975)]\n",
      "[('markup', 0.0630667433142662), ('aca', 0.061500467360019684), ('quarter', 0.035585515201091766), ('economic_activity', 0.03127915784716606), ('exchange', 0.02791854925453663), ('direct_enforcement', 0.02693895436823368), ('exchange_glitch', 0.02581663429737091), ('glitch', 0.02469431608915329), ('aspe', 0.017960399389266968), ('enrollment', 0.016281038522720337)]\n",
      "[('stochastic_equicontinuity', 0.058499373495578766), ('arrive', 0.034810855984687805), ('diagnose', 0.028607795014977455), ('view', 0.024729616940021515), ('international', 0.019865069538354874), ('ran', 0.019424961879849434), ('building', 0.019424961879849434), ('strict', 0.017459332942962646), ('endogenously', 0.017459332942962646), ('guarantee', 0.015797417610883713)]\n",
      "[('brinch', 0.02148987539112568), ('lottery_winner', 0.020359087735414505), ('lottery', 0.020359087735414505), ('weak_monotonicity', 0.01979508250951767), ('treated', 0.01936323195695877), ('treat', 0.01912057213485241), ('james_heckman', 0.018097512423992157), ('intervention', 0.01804616115987301), ('edward_vytlacil', 0.016966724768280983), ('lates', 0.01583704724907875)]\n",
      "[('brookings_paper', 0.04124099761247635), ('implementation_aca', 0.04124099761247635), ('welfare', 0.03981231153011322), ('penalty', 0.026081062853336334), ('medicaid_expansion', 0.025271765887737274), ('directenforcement', 0.022853592410683632), ('community_rating', 0.020723318681120872), ('cambridge_mass', 0.01980704255402088), ('monthly', 0.01887703500688076), ('actuary', 0.01856689341366291)]\n",
      "[('ssrn_electronic', 0.04386209324002266), ('pre_post', 0.02998296357691288), ('trend', 0.02307414822280407), ('effect', 0.022725719958543777), ('aca', 0.02185480110347271), ('pdf_link', 0.01799665205180645), ('rating', 0.012538895942270756), ('different', 0.012353772297501564), ('bundorf', 0.01074809767305851), ('einav_finkelstein', 0.010114161297678947)]\n",
      "[('billion', 0.02678644470870495), ('suggestive_evidence', 0.02667579986155033), ('therapy', 0.022323880344629288), ('preventive_service', 0.020409926772117615), ('today', 0.017861317843198776), ('longterm', 0.01734353043138981), ('image', 0.015005392022430897), ('cooper', 0.015005392022430897), ('history', 0.013398757204413414), ('target', 0.01290362048894167)]\n",
      "[('agent', 0.06976883113384247), ('counterfactual_simulation', 0.05958639830350876), ('stoploss', 0.035584431141614914), ('plan', 0.03188783675432205), ('utility', 0.021656187251210213), ('dwl', 0.018912892788648605), ('insurer', 0.017859043553471565), ('risk_aversion', 0.017652397975325584), ('tax', 0.015933239832520485), ('schedule', 0.014983288012444973)]\n",
      "[('crossref', 0.1463010311126709), ('effect', 0.03791062906384468), ('hackmann', 0.02648201771080494), ('difference', 0.019133595749735832), ('american_economic', 0.014424502849578857), ('finding', 0.014067962765693665), ('online_appendix', 0.011599571444094181), ('removal', 0.01079185213893652), ('impact', 0.010269427672028542), ('nonpoor', 0.009936857037246227)]\n",
      "[('chernozhukov_fernandezval', 0.24506776034832), ('rststage_estimation', 0.12412378191947937), ('median_min', 0.06590432673692703), ('max_median', 0.043949734419584274), ('professor', 0.03737539052963257), ('estima', 0.032972436398267746), ('min_max', 0.03271082043647766), ('le', 0.028041677549481392), ('bxi', 0.02199513465166092), ('house', 0.018707964569330215)]\n"
     ]
    },
    {
     "ename": "KeyError",
     "evalue": "35",
     "output_type": "error",
     "traceback": [
      "\u001b[0;31m---------------------------------------------------------------------------\u001b[0m",
      "\u001b[0;31mKeyError\u001b[0m                                  Traceback (most recent call last)",
      "Cell \u001b[0;32mIn[9], line 2\u001b[0m\n\u001b[1;32m      1\u001b[0m \u001b[38;5;28;01mfor\u001b[39;00m i \u001b[38;5;129;01min\u001b[39;00m \u001b[38;5;28mrange\u001b[39m(\u001b[38;5;28mlen\u001b[39m(hdp_topics)):\n\u001b[0;32m----> 2\u001b[0m     \u001b[38;5;28mprint\u001b[39m(hdp_topics[i])\n",
      "\u001b[0;31mKeyError\u001b[0m: 35"
     ]
    }
   ],
   "source": [
    "for i in range(len(hdp_topics)):\n",
    "    print(hdp_topics[i])\n"
   ]
  }
 ],
 "metadata": {
  "kernelspec": {
   "display_name": "Python 3 (ipykernel)",
   "language": "python",
   "name": "python3"
  },
  "language_info": {
   "codemirror_mode": {
    "name": "ipython",
    "version": 3
   },
   "file_extension": ".py",
   "mimetype": "text/x-python",
   "name": "python",
   "nbconvert_exporter": "python",
   "pygments_lexer": "ipython3",
   "version": "3.11.10"
  }
 },
 "nbformat": 4,
 "nbformat_minor": 4
}
