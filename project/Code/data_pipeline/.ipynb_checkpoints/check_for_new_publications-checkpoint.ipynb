{
 "cells": [
  {
   "cell_type": "code",
   "execution_count": 3,
   "id": "cc7d5a6f-0e4e-4f32-b93c-a2630685b334",
   "metadata": {},
   "outputs": [],
   "source": [
    "'''\n",
    "2) Check Open Alex, Crossref, Arxiv and Google Scholars for pdfs\n",
    "3) if unique add to pdf storage and add name to title column \n",
    "'''\n",
    "import logging\n",
    "logging.basicConfig(level=logging.INFO, format='%(asctime)s - %(levelname)s - %(message)s')\n",
    "logger = logging.getLogger(__name__)"
   ]
  },
  {
   "cell_type": "code",
   "execution_count": 4,
   "id": "09113f08-4f14-4617-a7b3-eb81972a67e0",
   "metadata": {},
   "outputs": [],
   "source": [
    "from database.database_manager import DatabaseManager\n",
    "from publication_API.crossref_api import CrossrefAPI\n",
    "from publication_API.arxiv_api import ArxivAPI\n",
    "from publication_API.open_alex import OpenAlex\n",
    "\n",
    "DATABASE_PATH = '/home/hudah/expert_field_project/data_pipeline/database/experts.db'\n",
    "\n",
    "database_manager = DatabaseManager(DATABASE_PATH)\n",
    "#TODO: change email before sign off\n",
    "crossref_api = CrossrefAPI(email='hudah@umich.edu', rows=10, database_manager=database_manager)\n",
    "arxiv_api = ArxivAPI(rows=10, database_manager=database_manager)\n",
    "open_alex_api = OpenAlex(database_manager=database_manager)\n",
    "\n",
    "author_list = database_manager.get_all_authors()"
   ]
  },
  {
   "cell_type": "code",
   "execution_count": null,
   "id": "de4d6c9e",
   "metadata": {},
   "outputs": [],
   "source": [
    "for author_id in author_list:\n",
    "    #crossref_api.api_call(author_id)\n",
    "    # arxiv_api.api_call(author_id)\n",
    "    open_alex_api.api_call(author_id)\n",
    "    \n"
   ]
  },
  {
   "cell_type": "code",
   "execution_count": null,
   "id": "a320d7a1-207c-431e-a608-ccddc7456420",
   "metadata": {},
   "outputs": [],
   "source": [
    "#pdf handling\n",
    "def is_pdf_downloadable(url):\n",
    "    try:\n",
    "        response = requests.head(url, allow_redirects=True)\n",
    "        content_type = response.headers.get('Content-Type', '').lower()\n",
    "        if 'application/pdf' in content_type:\n",
    "            return True\n",
    "        else:\n",
    "            # If HEAD request does not confirm, try a GET request\n",
    "            response = requests.get(url, stream=True)\n",
    "            content_type = response.headers.get('Content-Type', '').lower()\n",
    "            if 'application/pdf' in content_type:\n",
    "                return True\n",
    "    except requests.RequestException as e:\n",
    "        print(f\"An error occurred: {e}\")\n",
    "    return False\n",
    "\n",
    "\n",
    "def download_pdf(url, save_path):\n",
    "    \"\"\"Downloads the PDF from the given URL and saves it to the specified path.\"\"\"\n",
    "    response = requests.get(url)\n",
    "    if response.status_code == 200:\n",
    "        with open(save_path, 'wb') as f:\n",
    "            f.write(response.content)\n",
    "        print(f\"Downloaded PDF to {save_path}\")\n",
    "    else:\n",
    "        print(f\"Failed to download PDF from {url}\")"
   ]
  }
 ],
 "metadata": {
  "kernelspec": {
   "display_name": "Python 3 (ipykernel)",
   "language": "python",
   "name": "python3"
  },
  "language_info": {
   "codemirror_mode": {
    "name": "ipython",
    "version": 3
   },
   "file_extension": ".py",
   "mimetype": "text/x-python",
   "name": "python",
   "nbconvert_exporter": "python",
   "pygments_lexer": "ipython3",
   "version": "3.9.7"
  }
 },
 "nbformat": 4,
 "nbformat_minor": 5
}
