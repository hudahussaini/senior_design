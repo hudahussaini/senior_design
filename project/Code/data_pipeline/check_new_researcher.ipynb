{
 "cells": [
  {
   "cell_type": "code",
   "execution_count": null,
   "id": "4bc0e3df-90a2-40d6-b639-e0a033c23a63",
   "metadata": {},
   "outputs": [],
   "source": [
    "import pandas as pd\n",
    "from database.database_manager import DatabaseManager\n",
    "from utils import topic_model_config\n",
    "\n",
    "database_manager = DatabaseManager(pathlib.Path(topic_model_config.DATABASE_PATH))\n",
    "author_list = database_manager.get_all_authors()\n",
    "\n",
    "def get_new_authors(file_path, authors):\n",
    "    file = pd.read_csv(file_path)\n",
    "    df = pd.DataFrame(file)\n",
    "    new = df[(~df[\"Uniqname\"].isin(authors)) & (df[\"Uniqname\"].notna())].reset_index().drop('index', axis=1)\n",
    "    row_number = new.shape[0]\n",
    "    for row in range(row_number):\n",
    "        info = new.loc[row, :].values.flatten().tolist()\n",
    "        database_manager.add_researcher(info)\n",
    "\n",
    "get_new_authors(csv_path, author_list)"
   ]
  }
 ],
 "metadata": {
  "kernelspec": {
   "display_name": "Python 3 (ipykernel)",
   "language": "python",
   "name": "python3"
  },
  "language_info": {
   "codemirror_mode": {
    "name": "ipython",
    "version": 3
   },
   "file_extension": ".py",
   "mimetype": "text/x-python",
   "name": "python",
   "nbconvert_exporter": "python",
   "pygments_lexer": "ipython3",
   "version": "3.11.7"
  }
 },
 "nbformat": 4,
 "nbformat_minor": 5
}
