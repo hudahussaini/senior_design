{
 "cells": [
  {
   "cell_type": "code",
   "execution_count": 2,
   "id": "49121e36-e095-4db1-8d0e-a956f4178538",
   "metadata": {},
   "outputs": [],
   "source": [
    "# Need two scripts\n",
    "#      1) Checks for new authors\n",
    "#      2) Checks for new publications\n",
    "# This script is #2"
   ]
  },
  {
   "cell_type": "code",
   "execution_count": null,
   "id": "09113f08-4f14-4617-a7b3-eb81972a67e0",
   "metadata": {},
   "outputs": [],
   "source": [
    "# import pandas as pd\n",
    "# import sqlalchemy\n",
    "\n",
    "# # Set up your SQLAlchemy connection\n",
    "# engine = sqlalchemy.create_engine('your_connection_string')\n",
    "\n",
    "# # Query the authors column\n",
    "# query = \"SELECT authors FROM your_table\"\n",
    "# df = pd.read_sql(query, engine)\n",
    "\n",
    "# # Use .apply() to iterate over the authors column\n",
    "# df['authors_processed'] = df['authors'].apply(your_function)\n",
    "\n",
    "print(\"hello\")\n"
   ]
  }
 ],
 "metadata": {
  "kernelspec": {
   "display_name": "Python 3 (ipykernel)",
   "language": "python",
   "name": "python3"
  },
  "language_info": {
   "codemirror_mode": {
    "name": "ipython",
    "version": 3
   },
   "file_extension": ".py",
   "mimetype": "text/x-python",
   "name": "python",
   "nbconvert_exporter": "python",
   "pygments_lexer": "ipython3",
   "version": "3.11.7"
  }
 },
 "nbformat": 4,
 "nbformat_minor": 5
}
